{
 "cells": [
  {
   "cell_type": "code",
   "execution_count": 3,
   "metadata": {},
   "outputs": [
    {
     "name": "stdout",
     "output_type": "stream",
     "text": [
      "✅ Lastet inn 82798311 rader fra timelige Telia-data.\n"
     ]
    }
   ],
   "source": [
    "import os\n",
    "import pandas as pd\n",
    "\n",
    "def load_telia_data(folder):\n",
    "        \"\"\"Laster alle CSV-filer i de oppgitte mappene og kombinerer dem til én DataFrame per type.\"\"\"\n",
    "        \n",
    "        def load_csvs_from_folder(folder):\n",
    "            \"\"\"Hjelpefunksjon for å finne og slå sammen alle CSV-filer i en mappe.\"\"\"\n",
    "    \n",
    "            if not os.path.exists(folder):\n",
    "                raise FileNotFoundError(f\"Mappen {folder} eksisterer ikke.\")\n",
    "\n",
    "            csv_files = [f for f in os.listdir(folder) if f.endswith(\".csv\")]\n",
    "            if not csv_files:\n",
    "                raise FileNotFoundError(f\"Ingen CSV-filer funnet i {folder}\")\n",
    "            \n",
    "            df_list = []\n",
    "            for file in csv_files:\n",
    "                file_path = os.path.join(folder, file)\n",
    "                df = pd.read_csv(file_path, sep=\";\")  # Juster separator hvis nødvendig\n",
    "                df_list.append(df)\n",
    "\n",
    "            return pd.concat(df_list, ignore_index=True)\n",
    "\n",
    "        # Laste timelige data\n",
    "        hourly_data = load_csvs_from_folder(folder)\n",
    "        print(f\"✅ Lastet inn {len(hourly_data)} rader fra timelige Telia-data.\")\n",
    "        return hourly_data\n",
    "        \n",
    "folder=\"data/telia/hourly\"\n",
    "df = load_telia_data(folder)"
   ]
  },
  {
   "cell_type": "code",
   "execution_count": 6,
   "metadata": {},
   "outputs": [
    {
     "name": "stdout",
     "output_type": "stream",
     "text": [
      "          batch_date hour     way_id  tag_key   tag_value admin_level_2 people\n",
      "0         2022-11-03    5  717959781  highway       trunk     Trondheim    256\n",
      "1         2022-11-03   19  733976762  highway    tertiary     Trondheim    256\n",
      "2         2022-11-03   21  724402416  highway   secondary     Trondheim    256\n",
      "3         2022-11-03   16  727900571  highway   secondary     Trondheim    768\n",
      "4         2022-11-03   18  697301994  highway  trunk_link     Trondheim    768\n",
      "...              ...  ...        ...      ...         ...           ...    ...\n",
      "82798306  2020-01-26   18  774734983  highway       trunk     Trondheim   1521\n",
      "82798307  2020-01-26    8  774734984  highway       trunk     Trondheim    242\n",
      "82798308  2020-01-26   17  785686875  highway   secondary     Trondheim    243\n",
      "82798309  2020-01-26    7  774734982  highway       trunk     Trondheim    250\n",
      "82798310  2020-01-26    1  774734982  highway       trunk     Trondheim    253\n",
      "\n",
      "[82798311 rows x 7 columns]\n"
     ]
    }
   ],
   "source": [
    "print(df)"
   ]
  },
  {
   "cell_type": "code",
   "execution_count": 7,
   "metadata": {},
   "outputs": [
    {
     "name": "stdout",
     "output_type": "stream",
     "text": [
      "       batch_date  hour       tag_value      people\n",
      "0      2019-01-17     0        motorway  127.037037\n",
      "1      2019-01-17     0   motorway_link   24.700000\n",
      "2      2019-01-17     0         primary   60.047619\n",
      "3      2019-01-17     0            rail   11.275862\n",
      "4      2019-01-17     0       secondary   41.335922\n",
      "...           ...   ...             ...         ...\n",
      "413272 2023-11-30    23  secondary_link   54.666667\n",
      "413273 2023-11-30    23        tertiary   51.356473\n",
      "413274 2023-11-30    23   tertiary_link   26.000000\n",
      "413275 2023-11-30    23           trunk  361.039823\n",
      "413276 2023-11-30    23      trunk_link   85.972477\n",
      "\n",
      "[413277 rows x 4 columns]\n"
     ]
    }
   ],
   "source": [
    "import pandas as pd\n",
    "\n",
    "def calculate_hourly_distributions(df):\n",
    "    # Convert 'batch_date' and 'hour' columns to datetime and integer types respectively\n",
    "    df['batch_date'] = pd.to_datetime(df['batch_date'])\n",
    "    df['hour'] = df['hour'].astype(int)\n",
    "    df['people'] = df['people'].astype(int)\n",
    "\n",
    "    # Group by 'batch_date', 'hour', and 'tag_value' and calculate the mean of 'people'\n",
    "    hourly_distributions = df.groupby(['batch_date', 'hour', 'tag_value'])['people'].mean().reset_index()\n",
    "\n",
    "    return hourly_distributions\n",
    "\n",
    "# Calculate the hourly distributions\n",
    "hourly_distributions = calculate_hourly_distributions(df)\n",
    "\n",
    "# Print the result\n",
    "print(hourly_distributions)"
   ]
  },
  {
   "cell_type": "code",
   "execution_count": null,
   "metadata": {},
   "outputs": [],
   "source": []
  }
 ],
 "metadata": {
  "kernelspec": {
   "display_name": "venv",
   "language": "python",
   "name": "python3"
  },
  "language_info": {
   "codemirror_mode": {
    "name": "ipython",
    "version": 3
   },
   "file_extension": ".py",
   "mimetype": "text/x-python",
   "name": "python",
   "nbconvert_exporter": "python",
   "pygments_lexer": "ipython3",
   "version": "3.12.2"
  }
 },
 "nbformat": 4,
 "nbformat_minor": 2
}
